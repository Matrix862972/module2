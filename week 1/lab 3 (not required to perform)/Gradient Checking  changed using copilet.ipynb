{
 "cells": [
  {
   "cell_type": "markdown",
   "metadata": {},
   "source": [
    "# Gradient Checking\n",
    "\n",
    "Welcome to the final assignment for this week! In this assignment you will learn to implement and use gradient checking. \n",
    "\n",
    "You are part of a team working to make mobile payments available globally, and are asked to build a deep learning model to detect fraud--whenever someone makes a payment, you want to see if the payment might be fraudulent, such as if the user's account has been taken over by a hacker. \n",
    "\n",
    "But backpropagation is quite challenging to implement, and sometimes has bugs. Because this is a mission-critical application, your company's CEO wants to be really certain that your implementation of backpropagation is correct. Your CEO says, \"Give me a proof that your backpropagation is actually working!\" To give this reassurance, you are going to use \"gradient checking\".\n",
    "\n",
    "Let's do it!"
   ]
  },
  {
   "cell_type": "code",
   "execution_count": null,
   "metadata": {},
   "outputs": [],
   "source": [
    "# Packages\n",
    "import tensorflow as tf\n",
    "import numpy as np\n",
    "from testCases import *\n",
    "\n",
    "# TensorFlow activation functions\n",
    "def sigmoid(z):\n",
    "    \"\"\"Sigmoid activation function using TensorFlow\"\"\"\n",
    "    return tf.nn.sigmoid(z)\n",
    "\n",
    "def relu(z):\n",
    "    \"\"\"ReLU activation function using TensorFlow\"\"\"\n",
    "    return tf.nn.relu(z)\n",
    "\n",
    "# Utility functions for gradient checking\n",
    "def dictionary_to_vector(parameters):\n",
    "    \"\"\"\n",
    "    Roll all our parameters dictionary into a single vector satisfying our specific required shape.\n",
    "    \"\"\"\n",
    "    keys = []\n",
    "    count = 0\n",
    "    for key in parameters.keys():\n",
    "        \n",
    "        # flatten parameter\n",
    "        new_vector = tf.reshape(parameters[key], (-1,1))\n",
    "        keys.append(key)\n",
    "        \n",
    "        if count == 0:\n",
    "            theta = new_vector\n",
    "        else:\n",
    "            theta = tf.concat([theta, new_vector], axis=0)\n",
    "        count = count + 1\n",
    "\n",
    "    return theta, keys\n",
    "\n",
    "def vector_to_dictionary(theta, keys):\n",
    "    \"\"\"\n",
    "    Unroll all our parameters dictionary from a single vector satisfying our specific required shape.\n",
    "    \"\"\"\n",
    "    parameters = {}\n",
    "    # Define the shapes for each layer\n",
    "    shapes = {\n",
    "        \"W1\": (5, 4),\n",
    "        \"b1\": (5, 1),\n",
    "        \"W2\": (3, 5),\n",
    "        \"b2\": (3, 1),\n",
    "        \"W3\": (1, 3),\n",
    "        \"b3\": (1, 1)\n",
    "    }\n",
    "    \n",
    "    start = 0\n",
    "    for key in keys:\n",
    "        shape = shapes[key]\n",
    "        size = shape[0] * shape[1]\n",
    "        parameters[key] = tf.reshape(theta[start:start+size], shape)\n",
    "        start += size\n",
    "    \n",
    "    return parameters\n",
    "\n",
    "def gradients_to_vector(gradients):\n",
    "    \"\"\"\n",
    "    Roll all our gradients dictionary into a single vector satisfying our specific required shape.\n",
    "    \"\"\"\n",
    "    count = 0\n",
    "    # Only include the parameter gradients (W and b), not intermediate activations\n",
    "    param_keys = [\"dW1\", \"db1\", \"dW2\", \"db2\", \"dW3\", \"db3\"]\n",
    "    \n",
    "    for key in param_keys:\n",
    "        # flatten parameter\n",
    "        new_vector = tf.reshape(gradients[key], (-1,1))\n",
    "        \n",
    "        if count == 0:\n",
    "            theta = new_vector\n",
    "        else:\n",
    "            theta = tf.concat([theta, new_vector], axis=0)\n",
    "        count = count + 1\n",
    "\n",
    "    return theta"
   ]
  },
  {
   "cell_type": "markdown",
   "metadata": {},
   "source": [
    "## TensorFlow Implementation\n",
    "\n",
    "This notebook has been converted to use **TensorFlow** instead of pure NumPy operations. Key changes include:\n",
    "\n",
    "- **TensorFlow tensors** instead of NumPy arrays for all computations\n",
    "- **TensorFlow operations** (`tf.matmul`, `tf.nn.relu`, `tf.nn.sigmoid`, etc.) instead of NumPy equivalents\n",
    "- **Automatic differentiation** capabilities (though we still implement manual gradient checking for educational purposes)\n",
    "- **GPU acceleration** support (if available)\n",
    "- **More numerically stable** operations (e.g., `tf.nn.sigmoid_cross_entropy_with_logits`)\n",
    "\n",
    "The core concepts of gradient checking remain the same, but now we're using TensorFlow's computational graph and tensor operations throughout."
   ]
  },
  {
   "cell_type": "markdown",
   "metadata": {},
   "source": [
    "## 1) How does gradient checking work?\n",
    "\n",
    "Backpropagation computes the gradients $\\frac{\\partial J}{\\partial \\theta}$, where $\\theta$ denotes the parameters of the model. $J$ is computed using forward propagation and your loss function.\n",
    "\n",
    "Because forward propagation is relatively easy to implement, you're confident you got that right, and so you're almost  100% sure that you're computing the cost $J$ correctly. Thus, you can use your code for computing $J$ to verify the code for computing $\\frac{\\partial J}{\\partial \\theta}$. \n",
    "\n",
    "Let's look back at the definition of a derivative (or gradient):\n",
    "$$ \\frac{\\partial J}{\\partial \\theta} = \\lim_{\\varepsilon \\to 0} \\frac{J(\\theta + \\varepsilon) - J(\\theta - \\varepsilon)}{2 \\varepsilon} \\tag{1}$$\n",
    "\n",
    "If you're not familiar with the \"$\\displaystyle \\lim_{\\varepsilon \\to 0}$\" notation, it's just a way of saying \"when $\\varepsilon$ is really really small.\"\n",
    "\n",
    "We know the following:\n",
    "\n",
    "- $\\frac{\\partial J}{\\partial \\theta}$ is what you want to make sure you're computing correctly. \n",
    "- You can compute $J(\\theta + \\varepsilon)$ and $J(\\theta - \\varepsilon)$ (in the case that $\\theta$ is a real number), since you're confident your implementation for $J$ is correct. \n",
    "\n",
    "Lets use equation (1) and a small value for $\\varepsilon$ to convince your CEO that your code for computing  $\\frac{\\partial J}{\\partial \\theta}$ is correct!"
   ]
  },
  {
   "cell_type": "markdown",
   "metadata": {},
   "source": [
    "## 2) 1-dimensional gradient checking\n",
    "\n",
    "Consider a 1D linear function $J(\\theta) = \\theta x$. The model contains only a single real-valued parameter $\\theta$, and takes $x$ as input.\n",
    "\n",
    "You will implement code to compute $J(.)$ and its derivative $\\frac{\\partial J}{\\partial \\theta}$. You will then use gradient checking to make sure your derivative computation for $J$ is correct. \n",
    "\n",
    "<img src=\"images/1Dgrad_kiank.png\" style=\"width:600px;height:250px;\">\n",
    "<caption><center> <u> **Figure 1** </u>: **1D linear model**<br> </center></caption>\n",
    "\n",
    "The diagram above shows the key computation steps: First start with $x$, then evaluate the function $J(x)$ (\"forward propagation\"). Then compute the derivative $\\frac{\\partial J}{\\partial \\theta}$ (\"backward propagation\"). \n",
    "\n",
    "**Exercise**: implement \"forward propagation\" and \"backward propagation\" for this simple function. I.e., compute both $J(.)$ (\"forward propagation\") and its derivative with respect to $\\theta$ (\"backward propagation\"), in two separate functions. "
   ]
  },
  {
   "cell_type": "code",
   "execution_count": null,
   "metadata": {},
   "outputs": [],
   "source": [
    "import tensorflow as tf\n",
    "\n",
    "# GRADED FUNCTION: forward_propagation\n",
    "\n",
    "def forward_propagation(x, theta):\n",
    "    \"\"\"\n",
    "    Implement the linear forward propagation (compute J) presented in Figure 1 (J(theta) = theta * x)\n",
    "    Using TensorFlow operations\n",
    "    \n",
    "    Arguments:\n",
    "    x -- a real-valued input (can be a TensorFlow tensor or Python number)\n",
    "    theta -- our parameter, a real number as well (can be a TensorFlow tensor or Python number)\n",
    "    \n",
    "    Returns:\n",
    "    J -- the value of function J, computed using the formula J(theta) = theta * x\n",
    "    \"\"\"\n",
    "    \n",
    "    ### START CODE HERE ### (approx. 1 line)\n",
    "    # Convert inputs to TensorFlow tensors if they aren't already\n",
    "    x_tensor = tf.constant(x, dtype=tf.float32)\n",
    "    theta_tensor = tf.constant(theta, dtype=tf.float32)\n",
    "    J = tf.multiply(theta_tensor, x_tensor)\n",
    "    ### END CODE HERE ###\n",
    "    \n",
    "    return J"
   ]
  },
  {
   "cell_type": "code",
   "execution_count": 5,
   "metadata": {},
   "outputs": [
    {
     "name": "stdout",
     "output_type": "stream",
     "text": [
      "J = 8\n"
     ]
    }
   ],
   "source": [
    "x, theta = 2, 4\n",
    "J = forward_propagation(x, theta)\n",
    "print (\"J = \" + str(J))"
   ]
  },
  {
   "cell_type": "markdown",
   "metadata": {},
   "source": [
    "**Expected Output**:\n",
    "\n",
    "<table style=>\n",
    "    <tr>\n",
    "        <td>  ** J **  </td>\n",
    "        <td> 8</td>\n",
    "    </tr>\n",
    "</table>"
   ]
  },
  {
   "cell_type": "markdown",
   "metadata": {},
   "source": [
    "**Exercise**: Now, implement the backward propagation step (derivative computation) of Figure 1. That is, compute the derivative of $J(\\theta) = \\theta x$ with respect to $\\theta$. To save you from doing the calculus, you should get $dtheta = \\frac { \\partial J }{ \\partial \\theta} = x$."
   ]
  },
  {
   "cell_type": "code",
   "execution_count": null,
   "metadata": {},
   "outputs": [],
   "source": [
    "import tensorflow as tf\n",
    "\n",
    "# GRADED FUNCTION: backward_propagation\n",
    "\n",
    "def backward_propagation(x, theta):\n",
    "    \"\"\"\n",
    "    Computes the derivative of J with respect to theta (see Figure 1).\n",
    "    Using TensorFlow operations\n",
    "    \n",
    "    Arguments:\n",
    "    x -- a real-valued input (can be a TensorFlow tensor or Python number)\n",
    "    theta -- our parameter, a real number as well (can be a TensorFlow tensor or Python number)\n",
    "    \n",
    "    Returns:\n",
    "    dtheta -- the gradient of the cost with respect to theta\n",
    "    \"\"\"\n",
    "    \n",
    "    ### START CODE HERE ### (approx. 1 line)\n",
    "    # For J(theta) = theta * x, the derivative is simply x\n",
    "    dtheta = tf.constant(x, dtype=tf.float32)\n",
    "    ### END CODE HERE ###\n",
    "    \n",
    "    return dtheta"
   ]
  },
  {
   "cell_type": "code",
   "execution_count": 7,
   "metadata": {
    "scrolled": true
   },
   "outputs": [
    {
     "name": "stdout",
     "output_type": "stream",
     "text": [
      "dtheta = 2\n"
     ]
    }
   ],
   "source": [
    "x, theta = 2, 4\n",
    "dtheta = backward_propagation(x, theta)\n",
    "print (\"dtheta = \" + str(dtheta))"
   ]
  },
  {
   "cell_type": "markdown",
   "metadata": {},
   "source": [
    "**Expected Output**:\n",
    "\n",
    "<table>\n",
    "    <tr>\n",
    "        <td>  ** dtheta **  </td>\n",
    "        <td> 2 </td>\n",
    "    </tr>\n",
    "</table>"
   ]
  },
  {
   "cell_type": "markdown",
   "metadata": {},
   "source": [
    "**Exercise**: To show that the `backward_propagation()` function is correctly computing the gradient $\\frac{\\partial J}{\\partial \\theta}$, let's implement gradient checking.\n",
    "\n",
    "**Instructions**:\n",
    "- First compute \"gradapprox\" using the formula above (1) and a small value of $\\varepsilon$. Here are the Steps to follow:\n",
    "    1. $\\theta^{+} = \\theta + \\varepsilon$\n",
    "    2. $\\theta^{-} = \\theta - \\varepsilon$\n",
    "    3. $J^{+} = J(\\theta^{+})$\n",
    "    4. $J^{-} = J(\\theta^{-})$\n",
    "    5. $gradapprox = \\frac{J^{+} - J^{-}}{2  \\varepsilon}$\n",
    "- Then compute the gradient using backward propagation, and store the result in a variable \"grad\"\n",
    "- Finally, compute the relative difference between \"gradapprox\" and the \"grad\" using the following formula:\n",
    "$$ difference = \\frac {\\mid\\mid grad - gradapprox \\mid\\mid_2}{\\mid\\mid grad \\mid\\mid_2 + \\mid\\mid gradapprox \\mid\\mid_2} \\tag{2}$$\n",
    "You will need 3 Steps to compute this formula:\n",
    "   - 1'. compute the numerator using np.linalg.norm(...)\n",
    "   - 2'. compute the denominator. You will need to call np.linalg.norm(...) twice.\n",
    "   - 3'. divide them.\n",
    "- If this difference is small (say less than $10^{-7}$), you can be quite confident that you have computed your gradient correctly. Otherwise, there may be a mistake in the gradient computation. \n"
   ]
  },
  {
   "cell_type": "code",
   "execution_count": null,
   "metadata": {},
   "outputs": [],
   "source": [
    "import numpy as np\n",
    "import tensorflow as tf\n",
    "\n",
    "# GRADED FUNCTION: gradient_check\n",
    "\n",
    "def gradient_check(x, theta, epsilon = 1e-7):\n",
    "    \"\"\"\n",
    "    Implement the backward propagation presented in Figure 1.\n",
    "    Using TensorFlow operations for gradient checking\n",
    "    \n",
    "    Arguments:\n",
    "    x -- a real-valued input\n",
    "    theta -- our parameter, a real number as well\n",
    "    epsilon -- tiny shift to the input to compute approximated gradient with formula(1)\n",
    "    \n",
    "    Returns:\n",
    "    difference -- difference (2) between the approximated gradient and the backward propagation gradient\n",
    "    \"\"\"\n",
    "    \n",
    "    # Compute gradapprox using left side of formula (1). epsilon is small enough, you don't need to worry about the limit.\n",
    "    ### START CODE HERE ### (approx. 5 lines)\n",
    "    # Convert to TensorFlow tensors\n",
    "    theta_tensor = tf.constant(theta, dtype=tf.float32)\n",
    "    x_tensor = tf.constant(x, dtype=tf.float32)\n",
    "    epsilon_tensor = tf.constant(epsilon, dtype=tf.float32)\n",
    "    \n",
    "    thetaplus = theta_tensor + epsilon_tensor                        # Step 1\n",
    "    thetaminus = theta_tensor - epsilon_tensor                       # Step 2\n",
    "    J_plus = tf.multiply(thetaplus, x_tensor)                        # Step 3\n",
    "    J_minus = tf.multiply(thetaminus, x_tensor)                      # Step 4\n",
    "    gradapprox = (J_plus - J_minus) / (2 * epsilon_tensor)          # Step 5\n",
    "    ### END CODE HERE ###\n",
    "    \n",
    "    # Check if gradapprox is close enough to the output of backward_propagation()\n",
    "    ### START CODE HERE ### (approx. 1 line)\n",
    "    grad = tf.constant(x, dtype=tf.float32)\n",
    "    ### END CODE HERE ###\n",
    "    \n",
    "    ### START CODE HERE ### (approx. 1 line)\n",
    "    numerator = tf.norm(gradapprox - grad)                           # Step 1'\n",
    "    denominator = tf.norm(gradapprox) + tf.norm(grad)                # Step 2'\n",
    "    difference = numerator / denominator                             # Step 3'\n",
    "    ### END CODE HERE ###\n",
    "    \n",
    "    # Convert to numpy for comparison\n",
    "    difference_value = difference.numpy()\n",
    "    \n",
    "    if difference_value < 1e-7:\n",
    "        print (\"The gradient is correct!\")\n",
    "    else:\n",
    "        print (\"The gradient is wrong!\")\n",
    "    \n",
    "    return difference_value"
   ]
  },
  {
   "cell_type": "code",
   "execution_count": 9,
   "metadata": {
    "scrolled": true
   },
   "outputs": [
    {
     "name": "stdout",
     "output_type": "stream",
     "text": [
      "The gradient is correct!\n",
      "difference = 2.919335883291695e-10\n"
     ]
    }
   ],
   "source": [
    "x, theta = 2, 4\n",
    "difference = gradient_check(x, theta)\n",
    "print(\"difference = \" + str(difference))"
   ]
  },
  {
   "cell_type": "markdown",
   "metadata": {},
   "source": [
    "**Expected Output**:\n",
    "The gradient is correct!\n",
    "<table>\n",
    "    <tr>\n",
    "        <td>  ** difference **  </td>\n",
    "        <td> 2.9193358103083e-10 </td>\n",
    "    </tr>\n",
    "</table>"
   ]
  },
  {
   "cell_type": "markdown",
   "metadata": {},
   "source": [
    "Congrats, the difference is smaller than the $10^{-7}$ threshold. So you can have high confidence that you've correctly computed the gradient in `backward_propagation()`. \n",
    "\n",
    "Now, in the more general case, your cost function $J$ has more than a single 1D input. When you are training a neural network, $\\theta$ actually consists of multiple matrices $W^{[l]}$ and biases $b^{[l]}$! It is important to know how to do a gradient check with higher-dimensional inputs. Let's do it!"
   ]
  },
  {
   "cell_type": "markdown",
   "metadata": {},
   "source": [
    "## 3) N-dimensional gradient checking"
   ]
  },
  {
   "cell_type": "markdown",
   "metadata": {
    "collapsed": true
   },
   "source": [
    "The following figure describes the forward and backward propagation of your fraud detection model.\n",
    "\n",
    "<img src=\"images/NDgrad_kiank.png\" style=\"width:600px;height:400px;\">\n",
    "<caption><center> <u> **Figure 2** </u>: **deep neural network**<br>*LINEAR -> RELU -> LINEAR -> RELU -> LINEAR -> SIGMOID*</center></caption>\n",
    "\n",
    "Let's look at your implementations for forward propagation and backward propagation. "
   ]
  },
  {
   "cell_type": "code",
   "execution_count": null,
   "metadata": {},
   "outputs": [],
   "source": [
    "import tensorflow as tf\n",
    "\n",
    "def forward_propagation_n(X, Y, parameters):\n",
    "    \"\"\"\n",
    "    Implements the forward propagation (and computes the cost) presented in Figure 3.\n",
    "    Using TensorFlow operations\n",
    "    \n",
    "    Arguments:\n",
    "    X -- training set for m examples\n",
    "    Y -- labels for m examples \n",
    "    parameters -- python dictionary containing your parameters \"W1\", \"b1\", \"W2\", \"b2\", \"W3\", \"b3\":\n",
    "                    W1 -- weight matrix of shape (5, 4)\n",
    "                    b1 -- bias vector of shape (5, 1)\n",
    "                    W2 -- weight matrix of shape (3, 5)\n",
    "                    b2 -- bias vector of shape (3, 1)\n",
    "                    W3 -- weight matrix of shape (1, 3)\n",
    "                    b3 -- bias vector of shape (1, 1)\n",
    "    \n",
    "    Returns:\n",
    "    cost -- the cost function (logistic cost for one example)\n",
    "    \"\"\"\n",
    "    \n",
    "    # Convert inputs to TensorFlow tensors\n",
    "    X = tf.constant(X, dtype=tf.float32)\n",
    "    Y = tf.constant(Y, dtype=tf.float32)\n",
    "    \n",
    "    # retrieve parameters and convert to TensorFlow tensors\n",
    "    m = tf.cast(tf.shape(X)[1], tf.float32)\n",
    "    W1 = tf.constant(parameters[\"W1\"], dtype=tf.float32)\n",
    "    b1 = tf.constant(parameters[\"b1\"], dtype=tf.float32)\n",
    "    W2 = tf.constant(parameters[\"W2\"], dtype=tf.float32)\n",
    "    b2 = tf.constant(parameters[\"b2\"], dtype=tf.float32)\n",
    "    W3 = tf.constant(parameters[\"W3\"], dtype=tf.float32)\n",
    "    b3 = tf.constant(parameters[\"b3\"], dtype=tf.float32)\n",
    "\n",
    "    # LINEAR -> RELU -> LINEAR -> RELU -> LINEAR -> SIGMOID\n",
    "    Z1 = tf.matmul(W1, X) + b1\n",
    "    A1 = tf.nn.relu(Z1)\n",
    "    Z2 = tf.matmul(W2, A1) + b2\n",
    "    A2 = tf.nn.relu(Z2)\n",
    "    Z3 = tf.matmul(W3, A2) + b3\n",
    "    A3 = tf.nn.sigmoid(Z3)\n",
    "\n",
    "    # Cost - using TensorFlow's built-in functions for numerical stability\n",
    "    # Equivalent to: logprobs = -Y * log(A3) - (1-Y) * log(1-A3)\n",
    "    logprobs = tf.nn.sigmoid_cross_entropy_with_logits(logits=Z3, labels=Y)\n",
    "    cost = tf.reduce_mean(logprobs)\n",
    "    \n",
    "    # Convert tensors back to numpy for cache (to maintain compatibility)\n",
    "    cache = (Z1.numpy(), A1.numpy(), W1.numpy(), b1.numpy(), \n",
    "             Z2.numpy(), A2.numpy(), W2.numpy(), b2.numpy(), \n",
    "             Z3.numpy(), A3.numpy(), W3.numpy(), b3.numpy())\n",
    "    \n",
    "    return cost.numpy(), cache"
   ]
  },
  {
   "cell_type": "markdown",
   "metadata": {},
   "source": [
    "Now, run backward propagation."
   ]
  },
  {
   "cell_type": "code",
   "execution_count": null,
   "metadata": {},
   "outputs": [],
   "source": [
    "import tensorflow as tf\n",
    "\n",
    "def backward_propagation_n(X, Y, cache):\n",
    "    \"\"\"\n",
    "    Implement the backward propagation presented in figure 2.\n",
    "    Using TensorFlow operations for automatic differentiation\n",
    "    \n",
    "    Arguments:\n",
    "    X -- input datapoint, of shape (input size, 1)\n",
    "    Y -- true \"label\"\n",
    "    cache -- cache output from forward_propagation_n()\n",
    "    \n",
    "    Returns:\n",
    "    gradients -- A dictionary with the gradients of the cost with respect to each parameter, activation and pre-activation variables.\n",
    "    \"\"\"\n",
    "    \n",
    "    # Convert inputs to TensorFlow tensors\n",
    "    X = tf.constant(X, dtype=tf.float32)\n",
    "    Y = tf.constant(Y, dtype=tf.float32)\n",
    "    \n",
    "    m = tf.cast(tf.shape(X)[1], tf.float32)\n",
    "    (Z1, A1, W1, b1, Z2, A2, W2, b2, Z3, A3, W3, b3) = cache\n",
    "    \n",
    "    # Convert cache to TensorFlow tensors\n",
    "    Z1 = tf.constant(Z1, dtype=tf.float32)\n",
    "    A1 = tf.constant(A1, dtype=tf.float32)\n",
    "    W1 = tf.constant(W1, dtype=tf.float32)\n",
    "    b1 = tf.constant(b1, dtype=tf.float32)\n",
    "    Z2 = tf.constant(Z2, dtype=tf.float32)\n",
    "    A2 = tf.constant(A2, dtype=tf.float32)\n",
    "    W2 = tf.constant(W2, dtype=tf.float32)\n",
    "    b2 = tf.constant(b2, dtype=tf.float32)\n",
    "    Z3 = tf.constant(Z3, dtype=tf.float32)\n",
    "    A3 = tf.constant(A3, dtype=tf.float32)\n",
    "    W3 = tf.constant(W3, dtype=tf.float32)\n",
    "    b3 = tf.constant(b3, dtype=tf.float32)\n",
    "    \n",
    "    # Backward propagation using TensorFlow operations\n",
    "    dZ3 = A3 - Y\n",
    "    dW3 = (1.0/m) * tf.matmul(dZ3, tf.transpose(A2))\n",
    "    db3 = (1.0/m) * tf.reduce_sum(dZ3, axis=1, keepdims=True)\n",
    "    \n",
    "    dA2 = tf.matmul(tf.transpose(W3), dZ3)\n",
    "    dZ2 = tf.multiply(dA2, tf.cast(A2 > 0, tf.float32))  # ReLU derivative\n",
    "    dW2 = (1.0/m) * tf.matmul(dZ2, tf.transpose(A1))\n",
    "    db2 = (1.0/m) * tf.reduce_sum(dZ2, axis=1, keepdims=True)\n",
    "    \n",
    "    dA1 = tf.matmul(tf.transpose(W2), dZ2)\n",
    "    dZ1 = tf.multiply(dA1, tf.cast(A1 > 0, tf.float32))  # ReLU derivative\n",
    "    dW1 = (1.0/m) * tf.matmul(dZ1, tf.transpose(X))\n",
    "    db1 = (1.0/m) * tf.reduce_sum(dZ1, axis=1, keepdims=True)\n",
    "    \n",
    "    # Convert back to numpy for compatibility\n",
    "    gradients = {\"dZ3\": dZ3.numpy(), \"dW3\": dW3.numpy(), \"db3\": db3.numpy(),\n",
    "                 \"dA2\": dA2.numpy(), \"dZ2\": dZ2.numpy(), \"dW2\": dW2.numpy(), \"db2\": db2.numpy(),\n",
    "                 \"dA1\": dA1.numpy(), \"dZ1\": dZ1.numpy(), \"dW1\": dW1.numpy(), \"db1\": db1.numpy()}\n",
    "    \n",
    "    return gradients"
   ]
  },
  {
   "cell_type": "markdown",
   "metadata": {
    "collapsed": true
   },
   "source": [
    "You obtained some results on the fraud detection test set but you are not 100% sure of your model. Nobody's perfect! Let's implement gradient checking to verify if your gradients are correct."
   ]
  },
  {
   "cell_type": "markdown",
   "metadata": {},
   "source": [
    "**How does gradient checking work?**.\n",
    "\n",
    "As in 1) and 2), you want to compare \"gradapprox\" to the gradient computed by backpropagation. The formula is still:\n",
    "\n",
    "$$ \\frac{\\partial J}{\\partial \\theta} = \\lim_{\\varepsilon \\to 0} \\frac{J(\\theta + \\varepsilon) - J(\\theta - \\varepsilon)}{2 \\varepsilon} \\tag{1}$$\n",
    "\n",
    "However, $\\theta$ is not a scalar anymore. It is a dictionary called \"parameters\". We implemented a function \"`dictionary_to_vector()`\" for you. It converts the \"parameters\" dictionary into a vector called \"values\", obtained by reshaping all parameters (W1, b1, W2, b2, W3, b3) into vectors and concatenating them.\n",
    "\n",
    "The inverse function is \"`vector_to_dictionary`\" which outputs back the \"parameters\" dictionary.\n",
    "\n",
    "<img src=\"images/dictionary_to_vector.png\" style=\"width:600px;height:400px;\">\n",
    "<caption><center> <u> **Figure 2** </u>: **dictionary_to_vector() and vector_to_dictionary()**<br> You will need these functions in gradient_check_n()</center></caption>\n",
    "\n",
    "We have also converted the \"gradients\" dictionary into a vector \"grad\" using gradients_to_vector(). You don't need to worry about that.\n",
    "\n",
    "**Exercise**: Implement gradient_check_n().\n",
    "\n",
    "**Instructions**: Here is pseudo-code that will help you implement the gradient check.\n",
    "\n",
    "For each i in num_parameters:\n",
    "- To compute `J_plus[i]`:\n",
    "    1. Set $\\theta^{+}$ to `np.copy(parameters_values)`\n",
    "    2. Set $\\theta^{+}_i$ to $\\theta^{+}_i + \\varepsilon$\n",
    "    3. Calculate $J^{+}_i$ using to `forward_propagation_n(x, y, vector_to_dictionary(`$\\theta^{+}$ `))`.     \n",
    "- To compute `J_minus[i]`: do the same thing with $\\theta^{-}$\n",
    "- Compute $gradapprox[i] = \\frac{J^{+}_i - J^{-}_i}{2 \\varepsilon}$\n",
    "\n",
    "Thus, you get a vector gradapprox, where gradapprox[i] is an approximation of the gradient with respect to `parameter_values[i]`. You can now compare this gradapprox vector to the gradients vector from backpropagation. Just like for the 1D case (Steps 1', 2', 3'), compute: \n",
    "$$ difference = \\frac {\\| grad - gradapprox \\|_2}{\\| grad \\|_2 + \\| gradapprox \\|_2 } \\tag{3}$$"
   ]
  },
  {
   "cell_type": "code",
   "execution_count": null,
   "metadata": {},
   "outputs": [],
   "source": [
    "# GRADED FUNCTION: gradient_check_n\n",
    "\n",
    "def gradient_check_n(parameters, gradients, X, Y, epsilon = 1e-7):\n",
    "    \"\"\"\n",
    "    Checks if backward_propagation_n computes correctly the gradient of the cost output by forward_propagation_n\n",
    "    Using TensorFlow operations\n",
    "    \n",
    "    Arguments:\n",
    "    parameters -- python dictionary containing your parameters \"W1\", \"b1\", \"W2\", \"b2\", \"W3\", \"b3\":\n",
    "    grad -- output of backward_propagation_n, contains gradients of the cost with respect to the parameters. \n",
    "    x -- input datapoint, of shape (input size, 1)\n",
    "    y -- true \"label\"\n",
    "    epsilon -- tiny shift to the input to compute approximated gradient with formula(1)\n",
    "    \n",
    "    Returns:\n",
    "    difference -- difference (2) between the approximated gradient and the backward propagation gradient\n",
    "    \"\"\"\n",
    "    \n",
    "    # Set-up variables\n",
    "    parameters_values, keys = dictionary_to_vector(parameters)\n",
    "    grad = gradients_to_vector(gradients)\n",
    "    num_parameters = tf.shape(parameters_values)[0]\n",
    "    J_plus = tf.zeros((num_parameters, 1), dtype=tf.float32)\n",
    "    J_minus = tf.zeros((num_parameters, 1), dtype=tf.float32)\n",
    "    gradapprox = tf.zeros((num_parameters, 1), dtype=tf.float32)\n",
    "    \n",
    "    # Convert to TensorFlow tensors\n",
    "    epsilon_tensor = tf.constant(epsilon, dtype=tf.float32)\n",
    "    \n",
    "    # Convert parameters_values to numpy for easier manipulation\n",
    "    parameters_values_np = parameters_values.numpy()\n",
    "    J_plus_list = []\n",
    "    J_minus_list = []\n",
    "    \n",
    "    # Compute gradapprox\n",
    "    for i in range(num_parameters.numpy()):\n",
    "        \n",
    "        # Compute J_plus[i]. Inputs: \"parameters_values, epsilon\". Output = \"J_plus[i]\".\n",
    "        # \"_\" is used because the function you have to outputs two parameters but we only care about the first one\n",
    "        ### START CODE HERE ### (approx. 3 lines)\n",
    "        thetaplus = np.copy(parameters_values_np)                                        # Step 1\n",
    "        thetaplus[i][0] = thetaplus[i][0] + epsilon                                     # Step 2\n",
    "        thetaplus_tensor = tf.constant(thetaplus, dtype=tf.float32)\n",
    "        J_plus_i, _ = forward_propagation_n(X, Y, vector_to_dictionary(thetaplus_tensor, keys))  # Step 3\n",
    "        J_plus_list.append(J_plus_i)\n",
    "        ### END CODE HERE ###\n",
    "        \n",
    "        # Compute J_minus[i]. Inputs: \"parameters_values, epsilon\". Output = \"J_minus[i]\".\n",
    "        ### START CODE HERE ### (approx. 3 lines)\n",
    "        thetaminus = np.copy(parameters_values_np)                                       # Step 1\n",
    "        thetaminus[i][0] = thetaminus[i][0] - epsilon                                   # Step 2\n",
    "        thetaminus_tensor = tf.constant(thetaminus, dtype=tf.float32)\n",
    "        J_minus_i, _ = forward_propagation_n(X, Y, vector_to_dictionary(thetaminus_tensor, keys)) # Step 3\n",
    "        J_minus_list.append(J_minus_i)\n",
    "        ### END CODE HERE ###\n",
    "    \n",
    "    # Convert lists to TensorFlow tensors\n",
    "    J_plus = tf.constant([[val] for val in J_plus_list], dtype=tf.float32)\n",
    "    J_minus = tf.constant([[val] for val in J_minus_list], dtype=tf.float32)\n",
    "    \n",
    "    # Compute gradapprox\n",
    "    ### START CODE HERE ### (approx. 1 line)\n",
    "    gradapprox = (J_plus - J_minus) / (2 * epsilon_tensor)\n",
    "    ### END CODE HERE ###\n",
    "    \n",
    "    # Compare gradapprox to backward propagation gradients by computing difference.\n",
    "    ### START CODE HERE ### (approx. 1 line)\n",
    "    numerator = tf.norm(grad - gradapprox)                          # Step 1'\n",
    "    denominator = tf.norm(grad) + tf.norm(gradapprox)               # Step 2'\n",
    "    difference = numerator / denominator                            # Step 3'\n",
    "    ### END CODE HERE ###\n",
    "\n",
    "    # Convert to numpy for printing\n",
    "    difference_value = difference.numpy()\n",
    "    \n",
    "    if difference_value > 2e-7:\n",
    "        print (\"\\033[93m\" + \"There is a mistake in the backward propagation! difference = \" + str(difference_value) + \"\\033[0m\")\n",
    "    else:\n",
    "        print (\"\\033[92m\" + \"Your backward propagation works perfectly fine! difference = \" + str(difference_value) + \"\\033[0m\")\n",
    "    \n",
    "    return difference_value"
   ]
  },
  {
   "cell_type": "code",
   "execution_count": 21,
   "metadata": {
    "scrolled": false
   },
   "outputs": [
    {
     "name": "stdout",
     "output_type": "stream",
     "text": [
      "\u001b[92mYour backward propagation works perfectly fine! difference = 1.1890913023330276e-07\u001b[0m\n"
     ]
    }
   ],
   "source": [
    "X, Y, parameters = gradient_check_n_test_case()\n",
    "\n",
    "cost, cache = forward_propagation_n(X, Y, parameters)\n",
    "gradients = backward_propagation_n(X, Y, cache)\n",
    "difference = gradient_check_n(parameters, gradients, X, Y)"
   ]
  },
  {
   "cell_type": "markdown",
   "metadata": {},
   "source": [
    "**Expected output**:\n",
    "\n",
    "<table>\n",
    "    <tr>\n",
    "        <td>  ** There is a mistake in the backward propagation!**  </td>\n",
    "        <td> difference = 0.285093156781 </td>\n",
    "    </tr>\n",
    "</table>"
   ]
  },
  {
   "cell_type": "markdown",
   "metadata": {},
   "source": [
    "It seems that there were errors in the `backward_propagation_n` code we gave you! Good that you've implemented the gradient check. Go back to `backward_propagation` and try to find/correct the errors *(Hint: check dW2 and db1)*. Rerun the gradient check when you think you've fixed it. Remember you'll need to re-execute the cell defining `backward_propagation_n()` if you modify the code. \n",
    "\n",
    "Can you get gradient check to declare your derivative computation correct? Even though this part of the assignment isn't graded, we strongly urge you to try to find the bug and re-run gradient check until you're convinced backprop is now correctly implemented. \n",
    "\n",
    "**Note** \n",
    "- Gradient Checking is slow! Approximating the gradient with $\\frac{\\partial J}{\\partial \\theta} \\approx  \\frac{J(\\theta + \\varepsilon) - J(\\theta - \\varepsilon)}{2 \\varepsilon}$ is computationally costly. For this reason, we don't run gradient checking at every iteration during training. Just a few times to check if the gradient is correct. \n",
    "- Gradient Checking, at least as we've presented it, doesn't work with dropout. You would usually run the gradient check algorithm without dropout to make sure your backprop is correct, then add dropout. \n",
    "\n",
    "Congrats, you can be confident that your deep learning model for fraud detection is working correctly! You can even use this to convince your CEO. :) \n",
    "\n",
    "<font color='blue'>\n",
    "**What you should remember from this notebook**:\n",
    "- Gradient checking verifies closeness between the gradients from backpropagation and the numerical approximation of the gradient (computed using forward propagation).\n",
    "- Gradient checking is slow, so we don't run it in every iteration of training. You would usually run it only to make sure your code is correct, then turn it off and use backprop for the actual learning process. "
   ]
  },
  {
   "cell_type": "markdown",
   "metadata": {},
   "source": [
    "## Bonus: TensorFlow's Automatic Differentiation\n",
    "\n",
    "While gradient checking is essential for verifying manual backpropagation implementations, TensorFlow provides automatic differentiation through `tf.GradientTape`. Let's see how this compares to our manual implementation:"
   ]
  },
  {
   "cell_type": "code",
   "execution_count": null,
   "metadata": {},
   "outputs": [],
   "source": [
    "def forward_propagation_with_autodiff(X, Y, parameters):\n",
    "    \"\"\"\n",
    "    Demonstrates TensorFlow's automatic differentiation for the same network\n",
    "    \"\"\"\n",
    "    # Convert parameters to TensorFlow Variables (required for gradient computation)\n",
    "    W1 = tf.Variable(parameters[\"W1\"], dtype=tf.float32)\n",
    "    b1 = tf.Variable(parameters[\"b1\"], dtype=tf.float32)\n",
    "    W2 = tf.Variable(parameters[\"W2\"], dtype=tf.float32)\n",
    "    b2 = tf.Variable(parameters[\"b2\"], dtype=tf.float32)\n",
    "    W3 = tf.Variable(parameters[\"W3\"], dtype=tf.float32)\n",
    "    b3 = tf.Variable(parameters[\"b3\"], dtype=tf.float32)\n",
    "    \n",
    "    X = tf.constant(X, dtype=tf.float32)\n",
    "    Y = tf.constant(Y, dtype=tf.float32)\n",
    "    \n",
    "    # Use GradientTape to record operations for automatic differentiation\n",
    "    with tf.GradientTape() as tape:\n",
    "        # Forward propagation\n",
    "        Z1 = tf.matmul(W1, X) + b1\n",
    "        A1 = tf.nn.relu(Z1)\n",
    "        Z2 = tf.matmul(W2, A1) + b2\n",
    "        A2 = tf.nn.relu(Z2)\n",
    "        Z3 = tf.matmul(W3, A2) + b3\n",
    "        A3 = tf.nn.sigmoid(Z3)\n",
    "        \n",
    "        # Cost computation\n",
    "        cost = tf.reduce_mean(tf.nn.sigmoid_cross_entropy_with_logits(logits=Z3, labels=Y))\n",
    "    \n",
    "    # Compute gradients automatically\n",
    "    variables = [W1, b1, W2, b2, W3, b3]\n",
    "    gradients = tape.gradient(cost, variables)\n",
    "    \n",
    "    # Convert gradients to dictionary format\n",
    "    grad_dict = {\n",
    "        \"dW1\": gradients[0].numpy(),\n",
    "        \"db1\": gradients[1].numpy(),\n",
    "        \"dW2\": gradients[2].numpy(),\n",
    "        \"db2\": gradients[3].numpy(),\n",
    "        \"dW3\": gradients[4].numpy(),\n",
    "        \"db3\": gradients[5].numpy()\n",
    "    }\n",
    "    \n",
    "    return cost.numpy(), grad_dict\n",
    "\n",
    "# Example usage (uncomment to run after loading test data):\n",
    "# X, Y, parameters = gradient_check_n_test_case()\n",
    "# cost_auto, gradients_auto = forward_propagation_with_autodiff(X, Y, parameters)\n",
    "# cost_manual, cache = forward_propagation_n(X, Y, parameters)\n",
    "# gradients_manual = backward_propagation_n(X, Y, cache)\n",
    "# \n",
    "# print(\"Cost (auto-diff):\", cost_auto)\n",
    "# print(\"Cost (manual):\", cost_manual)\n",
    "# print(\"Gradient difference (dW1):\", np.max(np.abs(gradients_auto[\"dW1\"] - gradients_manual[\"dW1\"])))"
   ]
  },
  {
   "cell_type": "markdown",
   "metadata": {},
   "source": [
    "## Benefits of Using TensorFlow\n",
    "\n",
    "**Key advantages of this TensorFlow implementation:**\n",
    "\n",
    "1. **Automatic Differentiation**: TensorFlow can compute gradients automatically using `tf.GradientTape`, eliminating the need for manual backpropagation (though gradient checking is still valuable for verification).\n",
    "\n",
    "2. **GPU Acceleration**: All operations can run on GPU with minimal code changes, providing significant speedup for large networks.\n",
    "\n",
    "3. **Numerical Stability**: TensorFlow provides numerically stable implementations of common operations (e.g., `tf.nn.sigmoid_cross_entropy_with_logits`).\n",
    "\n",
    "4. **Production Ready**: TensorFlow is designed for production deployment with features like model serving, optimization, and quantization.\n",
    "\n",
    "5. **Ecosystem**: Rich ecosystem with Keras for high-level model building, TensorBoard for visualization, and TensorFlow Lite for mobile deployment.\n",
    "\n",
    "**When to use gradient checking:**\n",
    "- When implementing custom layers or loss functions\n",
    "- When debugging training issues\n",
    "- When developing new optimization algorithms\n",
    "- For educational purposes to understand backpropagation\n",
    "\n",
    "Remember: Gradient checking is computationally expensive and should only be used during development, not during actual training!"
   ]
  },
  {
   "cell_type": "code",
   "execution_count": null,
   "metadata": {
    "collapsed": true
   },
   "outputs": [],
   "source": []
  }
 ],
 "metadata": {
  "coursera": {
   "course_slug": "deep-neural-network",
   "graded_item_id": "n6NBD",
   "launcher_item_id": "yfOsE"
  },
  "kernelspec": {
   "display_name": "Python 3",
   "language": "python",
   "name": "python3"
  },
  "language_info": {
   "codemirror_mode": {
    "name": "ipython",
    "version": 3
   },
   "file_extension": ".py",
   "mimetype": "text/x-python",
   "name": "python",
   "nbconvert_exporter": "python",
   "pygments_lexer": "ipython3",
   "version": "3.8.5"
  },
  "varInspector": {
   "cols": {
    "lenName": 16,
    "lenType": 16,
    "lenVar": 40
   },
   "kernels_config": {
    "python": {
     "delete_cmd_postfix": "",
     "delete_cmd_prefix": "del ",
     "library": "var_list.py",
     "varRefreshCmd": "print(var_dic_list())"
    },
    "r": {
     "delete_cmd_postfix": ") ",
     "delete_cmd_prefix": "rm(",
     "library": "var_list.r",
     "varRefreshCmd": "cat(var_dic_list()) "
    }
   },
   "types_to_exclude": [
    "module",
    "function",
    "builtin_function_or_method",
    "instance",
    "_Feature"
   ],
   "window_display": false
  }
 },
 "nbformat": 4,
 "nbformat_minor": 1
}
